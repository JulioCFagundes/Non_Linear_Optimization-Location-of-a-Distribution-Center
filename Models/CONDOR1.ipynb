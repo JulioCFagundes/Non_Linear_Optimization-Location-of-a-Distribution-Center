{
 "cells": [
  {
   "cell_type": "code",
   "execution_count": 1,
   "metadata": {},
   "outputs": [],
   "source": [
    "import numpy as np\n",
    "import scipy\n",
    "import math\n",
    "from scipy.optimize import minimize"
   ]
  },
  {
   "cell_type": "code",
   "execution_count": 2,
   "metadata": {},
   "outputs": [],
   "source": [
    "HCondorTorres = np.array( [-25.482016244043514, -49.22050413069292])\n",
    "SNiloPecanha =np.array([-25.41169572061714, -49.27377846003732])\n",
    "SCondorAguaVerde =np.array( [-25.452411534381085, -49.27994254097753])\n",
    "HCondorNovoMundo = np.array( [-25.48587331143218, -49.29593190236248])\n",
    "HCondorSãoBraz = np.array( [-25.42171285405071, -49.349218246547])\n",
    "HCondorPinheirinho = np.array( [-25.51547589450823, -49.29616495075367])\n",
    "HCondorChampagnat = np.array( [-25.435121427978725, -49.303787446546714])\n",
    "SCondorWenceslauBraz = np.array( [-25.47153181758941, -49.2626573851601])\n",
    "HCondorSantaCandida = np.array( [-25.37724548690511, -49.22264971771121])\n",
    "SCcondorMarechal =np.array( [-25.49219706615689, -49.24237338887239])\n",
    "SCondorFranciscoDerosso = np.array( [-25.516661436988958, -49.256264844688744])\n",
    "SCondorCampoComprido = np.array( [-25.46098937457784, -49.346204967878755])\n",
    "SCondorJoãoBettega = np.array( [-25.492625124119012, -49.32437228701594])\n",
    "SCondorSitioCercado = np.array( [-25.534019970221706, -49.26585744840101])\n",
    "CEPostoIpiranga = np.array( [-25.43437867202696, -49.30937239097784])\n",
    "SCondorBoaVista = np.array( [-25.387962578738392, -49.24428461585488])\n",
    "SCondorCristoRei = np.array([-25.434306915402964, -49.24529939815508])\n",
    "SCondorAvenidaBrasilia = np.array([-25.495704639288387, -49.27673006003559])\n",
    "SCondorCajuru = np.array( [-25.45352050948544, -49.209102702363296])\n",
    "SCondorSantaQuitéria = np.array( [-25.46036443625162, -49.32396247167011])\n",
    "SCondorUmbará = np.array([-25.540842415249767, -49.2947628005052])\n",
    "CondorGourmetAhú = np.array( [-25.396902536232016, -49.25708978330538])\n",
    "SCondorSantaFelicidade = np.array( [-25.39468014283869, -49.34822601399845]) \n",
    "SCondorPilarzinho = np.array( [-25.38858020145726, -49.282953558181696])\n",
    "CacauShowCondorBomRetiro = np.array( [-25.41180063128769, -49.27363597352748])\n",
    "\n",
    "CD = np.array([-25.54960180883994, -49.28392552934169])\n"
   ]
  },
  {
   "cell_type": "code",
   "execution_count": 63,
   "metadata": {},
   "outputs": [],
   "source": [
    "HCondorTorres = [-25.482016244043514, -49.22050413069292]\n",
    "SNiloPecanha = [-25.41169572061714, -49.27377846003732]\n",
    "SCondorAguaVerde = [-25.452411534381085, -49.27994254097753]\n",
    "HCondorNovoMundo = [-25.48587331143218, -49.29593190236248]\n",
    "HCondorSãoBraz = [-25.42171285405071, -49.349218246547]\n",
    "HCondorPinheirinho = [-25.51547589450823, -49.29616495075367]\n",
    "HCondorChampagnat = [-25.435121427978725, -49.303787446546714]\n",
    "SCondorWenceslauBraz = [-25.47153181758941, -49.2626573851601]\n",
    "HCondorSantaCandida = [-25.37724548690511, -49.22264971771121]\n",
    "SCcondorMarechal = [-25.49219706615689, -49.24237338887239]\n",
    "SCondorFranciscoDerosso = [-25.516661436988958, -49.256264844688744]\n",
    "SCondorCampoComprido = [-25.46098937457784, -49.346204967878755]\n",
    "SCondorJoãoBettega = [-25.492625124119012, -49.32437228701594]\n",
    "SCondorSitioCercado = [-25.534019970221706, -49.26585744840101]\n",
    "CEPostoIpiranga = [-25.43437867202696, -49.30937239097784]\n",
    "SCondorBoaVista = [-25.387962578738392, -49.24428461585488]\n",
    "SCondorCristoRei = [-25.434306915402964, -49.24529939815508]\n",
    "SCondorAvenidaBrasilia = [-25.495704639288387, -49.27673006003559]\n",
    "SCondorCajuru = [-25.45352050948544, -49.209102702363296]\n",
    "SCondorSantaQuitéria = [-25.46036443625162, -49.32396247167011]\n",
    "SCondorUmbará = [-25.540842415249767, -49.2947628005052]\n",
    "CondorGourmetAhú = [-25.396902536232016, -49.25708978330538]\n",
    "SCondorSantaFelicidade = [-25.39468014283869, -49.34822601399845]\n",
    "SCondorPilarzinho = [-25.38858020145726, -49.282953558181696]\n",
    "CacauShowCondorBomRetiro = [-25.41180063128769, -49.27363597352748]\n",
    "\n",
    "CD = np.array([-25.54960180883994, -49.28392552934169])\n"
   ]
  },
  {
   "cell_type": "code",
   "execution_count": 3,
   "metadata": {},
   "outputs": [
    {
     "data": {
      "text/plain": [
       "array([[-25.48201624, -49.22050413],\n",
       "       [-25.41169572, -49.27377846],\n",
       "       [-25.45241153, -49.27994254],\n",
       "       [-25.48587331, -49.2959319 ],\n",
       "       [-25.42171285, -49.34921825],\n",
       "       [-25.51547589, -49.29616495],\n",
       "       [-25.43512143, -49.30378745],\n",
       "       [-25.47153182, -49.26265739],\n",
       "       [-25.37724549, -49.22264972],\n",
       "       [-25.49219707, -49.24237339],\n",
       "       [-25.51666144, -49.25626484],\n",
       "       [-25.46098937, -49.34620497],\n",
       "       [-25.49262512, -49.32437229],\n",
       "       [-25.53401997, -49.26585745],\n",
       "       [-25.43437867, -49.30937239],\n",
       "       [-25.38796258, -49.24428462],\n",
       "       [-25.43430692, -49.2452994 ],\n",
       "       [-25.49570464, -49.27673006],\n",
       "       [-25.45352051, -49.2091027 ],\n",
       "       [-25.46036444, -49.32396247],\n",
       "       [-25.54084242, -49.2947628 ],\n",
       "       [-25.39690254, -49.25708978],\n",
       "       [-25.39468014, -49.34822601],\n",
       "       [-25.3885802 , -49.28295356],\n",
       "       [-25.41180063, -49.27363597]])"
      ]
     },
     "execution_count": 3,
     "metadata": {},
     "output_type": "execute_result"
    }
   ],
   "source": [
    "CoordinatesMatrix = [HCondorTorres, SNiloPecanha, SCondorAguaVerde, HCondorNovoMundo, HCondorSãoBraz, HCondorPinheirinho, HCondorChampagnat, SCondorWenceslauBraz, HCondorSantaCandida, SCcondorMarechal, SCondorFranciscoDerosso, SCondorCampoComprido, SCondorJoãoBettega, SCondorSitioCercado, CEPostoIpiranga, SCondorBoaVista, SCondorCristoRei, SCondorAvenidaBrasilia, SCondorCajuru, SCondorSantaQuitéria, SCondorUmbará, CondorGourmetAhú, SCondorSantaFelicidade, SCondorPilarzinho, CacauShowCondorBomRetiro]\n",
    "\n",
    "#for i in range(len(CoordinatesMatrix)):\n",
    "#        CoordinatesMatrix[i] = CoordinatesMatrix[i]\n",
    "\n",
    "CoordinatesMatrix = np.array(CoordinatesMatrix)\n",
    "CoordinatesMatrix"
   ]
  },
  {
   "cell_type": "code",
   "execution_count": 4,
   "metadata": {},
   "outputs": [],
   "source": [
    "def objective(x):\n",
    "    X = x[0]\n",
    "    Y = x[1]\n",
    "    soma = 0\n",
    "    for i in range(len(CoordinatesMatrix)):\n",
    "        soma = soma + (X-CoordinatesMatrix[i,0])**2 + (Y-CoordinatesMatrix[i,1])**2\n",
    "    return soma"
   ]
  },
  {
   "cell_type": "code",
   "execution_count": 5,
   "metadata": {},
   "outputs": [],
   "source": [
    "x0 = [-25,-49]\n",
    "x0 = np.array(x0)"
   ]
  },
  {
   "cell_type": "code",
   "execution_count": 73,
   "metadata": {},
   "outputs": [
    {
     "data": {
      "text/plain": [
       "     fun: 0.09292359209717485\n",
       "     jac: array([-1.19209290e-07, -8.94069672e-08])\n",
       " message: 'Optimization terminated successfully'\n",
       "    nfev: 8\n",
       "     nit: 2\n",
       "    njev: 2\n",
       "  status: 0\n",
       " success: True\n",
       "       x: array([-25.45394483, -49.28020509])"
      ]
     },
     "execution_count": 73,
     "metadata": {},
     "output_type": "execute_result"
    }
   ],
   "source": [
    "sol = minimize(objective,x0,method='SLSQP')\n",
    "sol"
   ]
  },
  {
   "cell_type": "code",
   "execution_count": 6,
   "metadata": {},
   "outputs": [
    {
     "data": {
      "text/plain": [
       "array([-25.54960181, -49.28392553])"
      ]
     },
     "execution_count": 6,
     "metadata": {},
     "output_type": "execute_result"
    }
   ],
   "source": [
    "CD"
   ]
  },
  {
   "cell_type": "code",
   "execution_count": 78,
   "metadata": {},
   "outputs": [],
   "source": [
    "def objective(x):\n",
    "    X = x[0]\n",
    "    Y = x[1]\n",
    "    soma = 0\n",
    "    for i in range(len(CoordinatesMatrix)):\n",
    "        soma = soma + math.sqrt((X-CoordinatesMatrix[i,0])**2 + (Y-CoordinatesMatrix[i,1])**2)\n",
    "    return soma"
   ]
  },
  {
   "cell_type": "code",
   "execution_count": 7,
   "metadata": {},
   "outputs": [],
   "source": [
    "x0 = [-25,-49]\n",
    "x0 = np.array(x0)"
   ]
  },
  {
   "cell_type": "code",
   "execution_count": 84,
   "metadata": {},
   "outputs": [
    {
     "data": {
      "text/plain": [
       "   direc: array([[1., 0.],\n",
       "       [0., 1.]])\n",
       "     fun: array(1.41842465)\n",
       " message: 'Optimization terminated successfully.'\n",
       "    nfev: 143\n",
       "     nit: 4\n",
       "  status: 0\n",
       " success: True\n",
       "       x: array([-25.45243775, -49.27995549])"
      ]
     },
     "execution_count": 84,
     "metadata": {},
     "output_type": "execute_result"
    }
   ],
   "source": [
    "sol = minimize(objective,x0,method='Powell')\n",
    "sol"
   ]
  },
  {
   "cell_type": "code",
   "execution_count": 8,
   "metadata": {},
   "outputs": [
    {
     "data": {
      "text/plain": [
       "array([-25.54960181, -49.28392553])"
      ]
     },
     "execution_count": 8,
     "metadata": {},
     "output_type": "execute_result"
    }
   ],
   "source": [
    "CD"
   ]
  },
  {
   "cell_type": "code",
   "execution_count": null,
   "metadata": {},
   "outputs": [],
   "source": []
  }
 ],
 "metadata": {
  "kernelspec": {
   "display_name": "Python 3.10.4 64-bit",
   "language": "python",
   "name": "python3"
  },
  "language_info": {
   "codemirror_mode": {
    "name": "ipython",
    "version": 3
   },
   "file_extension": ".py",
   "mimetype": "text/x-python",
   "name": "python",
   "nbconvert_exporter": "python",
   "pygments_lexer": "ipython3",
   "version": "3.10.4"
  },
  "vscode": {
   "interpreter": {
    "hash": "369f2c481f4da34e4445cda3fffd2e751bd1c4d706f27375911949ba6bb62e1c"
   }
  }
 },
 "nbformat": 4,
 "nbformat_minor": 4
}
