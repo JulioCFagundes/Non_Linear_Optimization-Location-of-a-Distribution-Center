{
 "cells": [
  {
   "cell_type": "code",
   "execution_count": 1,
   "metadata": {},
   "outputs": [],
   "source": [
    "# Importando coisas\n",
    "import numpy as np\n",
    "import scipy\n",
    "import math\n",
    "from scipy.optimize import minimize"
   ]
  },
  {
   "cell_type": "code",
   "execution_count": 2,
   "metadata": {},
   "outputs": [],
   "source": [
    "# Coordenadas\n",
    "HCondorTorres = [-25.482016244043514, -49.22050413069292]\n",
    "SNiloPecanha = [-25.41169572061714, -49.27377846003732]\n",
    "SCondorAguaVerde = [-25.452411534381085, -49.27994254097753]\n",
    "HCondorNovoMundo = [-25.48587331143218, -49.29593190236248]\n",
    "HCondorSãoBraz = [-25.42171285405071, -49.349218246547]\n",
    "HCondorPinheirinho = [-25.51547589450823, -49.29616495075367]\n",
    "HCondorChampagnat = [-25.435121427978725, -49.303787446546714]\n",
    "SCondorWenceslauBraz = [-25.47153181758941, -49.2626573851601]\n",
    "HCondorSantaCandida = [-25.37724548690511, -49.22264971771121]\n",
    "SCcondorMarechal = [-25.49219706615689, -49.24237338887239]\n",
    "SCondorFranciscoDerosso = [-25.516661436988958, -49.256264844688744]\n",
    "SCondorCampoComprido = [-25.46098937457784, -49.346204967878755]\n",
    "SCondorJoãoBettega = [-25.492625124119012, -49.32437228701594]\n",
    "SCondorSitioCercado = [-25.534019970221706, -49.26585744840101]\n",
    "CEPostoIpiranga = [-25.43437867202696, -49.30937239097784]\n",
    "SCondorBoaVista = [-25.387962578738392, -49.24428461585488]\n",
    "SCondorCristoRei = [-25.434306915402964, -49.24529939815508]\n",
    "SCondorAvenidaBrasilia = [-25.495704639288387, -49.27673006003559]\n",
    "SCondorCajuru = [-25.45352050948544, -49.209102702363296]\n",
    "SCondorSantaQuitéria = [-25.46036443625162, -49.32396247167011]\n",
    "SCondorUmbará = [-25.540842415249767, -49.2947628005052]\n",
    "CondorGourmetAhú = [-25.396902536232016, -49.25708978330538]\n",
    "SCondorSantaFelicidade = [-25.39468014283869, -49.34822601399845]\n",
    "SCondorPilarzinho = [-25.38858020145726, -49.282953558181696]\n",
    "\n",
    "CD = np.array([-25.54960180883994, -49.28392552934169])"
   ]
  },
  {
   "cell_type": "code",
   "execution_count": 3,
   "metadata": {},
   "outputs": [
    {
     "data": {
      "text/plain": [
       "array([[-25.48201624, -49.22050413],\n",
       "       [-25.41169572, -49.27377846],\n",
       "       [-25.45241153, -49.27994254],\n",
       "       [-25.48587331, -49.2959319 ],\n",
       "       [-25.42171285, -49.34921825],\n",
       "       [-25.51547589, -49.29616495],\n",
       "       [-25.43512143, -49.30378745],\n",
       "       [-25.47153182, -49.26265739],\n",
       "       [-25.37724549, -49.22264972],\n",
       "       [-25.49219707, -49.24237339],\n",
       "       [-25.51666144, -49.25626484],\n",
       "       [-25.46098937, -49.34620497],\n",
       "       [-25.49262512, -49.32437229],\n",
       "       [-25.53401997, -49.26585745],\n",
       "       [-25.43437867, -49.30937239],\n",
       "       [-25.38796258, -49.24428462],\n",
       "       [-25.43430692, -49.2452994 ],\n",
       "       [-25.49570464, -49.27673006],\n",
       "       [-25.45352051, -49.2091027 ],\n",
       "       [-25.46036444, -49.32396247],\n",
       "       [-25.54084242, -49.2947628 ],\n",
       "       [-25.39690254, -49.25708978],\n",
       "       [-25.39468014, -49.34822601],\n",
       "       [-25.3885802 , -49.28295356]])"
      ]
     },
     "execution_count": 3,
     "metadata": {},
     "output_type": "execute_result"
    }
   ],
   "source": [
    "# Matriz\n",
    "CoordinatesMatrix = [HCondorTorres, SNiloPecanha, SCondorAguaVerde, HCondorNovoMundo, HCondorSãoBraz, HCondorPinheirinho, HCondorChampagnat, SCondorWenceslauBraz, HCondorSantaCandida, SCcondorMarechal, SCondorFranciscoDerosso, SCondorCampoComprido, SCondorJoãoBettega, SCondorSitioCercado, CEPostoIpiranga, SCondorBoaVista, SCondorCristoRei, SCondorAvenidaBrasilia, SCondorCajuru, SCondorSantaQuitéria, SCondorUmbará, CondorGourmetAhú, SCondorSantaFelicidade, SCondorPilarzinho]\n",
    "\n",
    "CoordinatesMatrix = np.array(CoordinatesMatrix)\n",
    "CoordinatesMatrix"
   ]
  },
  {
   "cell_type": "code",
   "execution_count": 4,
   "metadata": {},
   "outputs": [],
   "source": [
    "# Ponto inicial\n",
    "x0 = [-25,-49]\n",
    "x0 = np.array(x0)"
   ]
  },
  {
   "cell_type": "code",
   "execution_count": 5,
   "metadata": {},
   "outputs": [],
   "source": [
    "# Função objetivo sem peso\n",
    "def objective(x):\n",
    "    X = x[0]\n",
    "    Y = x[1]\n",
    "    soma = 0\n",
    "    for i in range(len(CoordinatesMatrix)):\n",
    "        soma = soma + math.sqrt((X-CoordinatesMatrix[i,0])**2 + (Y-CoordinatesMatrix[i,1])**2)\n",
    "    return soma"
   ]
  },
  {
   "cell_type": "code",
   "execution_count": 6,
   "metadata": {},
   "outputs": [
    {
     "data": {
      "text/plain": [
       "     fun: 1.3764997849433027\n",
       "     jac: array([ 0.00117953, -0.00515196])\n",
       " message: 'Optimization terminated successfully'\n",
       "    nfev: 29\n",
       "     nit: 7\n",
       "    njev: 7\n",
       "  status: 0\n",
       " success: True\n",
       "       x: array([-25.45500326, -49.28084034])"
      ]
     },
     "execution_count": 6,
     "metadata": {},
     "output_type": "execute_result"
    }
   ],
   "source": [
    "#-------------------------------------------------------------------------------------------------------------\n",
    "# Soluções\n",
    "sol = minimize(objective,x0,method='SLSQP')\n",
    "sol\n",
    "#S1 = [-25.45500324, -49.28084033]"
   ]
  },
  {
   "cell_type": "code",
   "execution_count": 11,
   "metadata": {},
   "outputs": [
    {
     "data": {
      "text/plain": [
       "   direc: array([[1., 0.],\n",
       "       [0., 1.]])\n",
       "     fun: array(1.37650564)\n",
       " message: 'Optimization terminated successfully.'\n",
       "    nfev: 51\n",
       "     nit: 2\n",
       "  status: 0\n",
       " success: True\n",
       "       x: array([-25.45523502, -49.28086605])"
      ]
     },
     "execution_count": 11,
     "metadata": {},
     "output_type": "execute_result"
    }
   ],
   "source": [
    "sol = minimize(objective,x0,method='Powell')\n",
    "sol\n",
    "#S2 = [-25.45523502, -49.28086605]"
   ]
  },
  {
   "cell_type": "code",
   "execution_count": 7,
   "metadata": {},
   "outputs": [
    {
     "data": {
      "text/plain": [
       "     fun: 1.3764997611883283\n",
       "     jac: array([ 8.04662704e-07, -1.98185444e-06])\n",
       " message: 'Optimization terminated successfully.'\n",
       "    nfev: 77\n",
       "     nit: 9\n",
       "    njev: 25\n",
       "  status: 0\n",
       " success: True\n",
       "       x: array([-25.45500502, -49.28083154])"
      ]
     },
     "execution_count": 7,
     "metadata": {},
     "output_type": "execute_result"
    }
   ],
   "source": [
    "sol = minimize(objective,x0,method='CG')\n",
    "sol\n",
    "#S3 = [-25.45500501, -49.28083152]"
   ]
  },
  {
   "cell_type": "code",
   "execution_count": 14,
   "metadata": {},
   "outputs": [
    {
     "data": {
      "text/plain": [
       "      fun: 1.3764997611883156\n",
       " hess_inv: array([[0.00448292, 0.00068111],\n",
       "       [0.00068111, 0.00186174]])\n",
       "      jac: array([-1.49011612e-08,  8.94069672e-08])\n",
       "  message: 'Optimization terminated successfully.'\n",
       "     nfev: 48\n",
       "      nit: 12\n",
       "     njev: 16\n",
       "   status: 0\n",
       "  success: True\n",
       "        x: array([-25.455005  , -49.28083152])"
      ]
     },
     "execution_count": 14,
     "metadata": {},
     "output_type": "execute_result"
    }
   ],
   "source": [
    "sol = minimize(objective,x0,method='BFGS')\n",
    "sol\n",
    "#S4 = [-25.455005  , -49.28083152]"
   ]
  },
  {
   "cell_type": "code",
   "execution_count": 15,
   "metadata": {},
   "outputs": [
    {
     "data": {
      "text/plain": [
       "     fun: 1.376499761259993\n",
       "     jac: array([-4.58744116e-05, -2.55662137e-04])\n",
       " message: 'Converged (|f_n-f_(n-1)| ~= 0)'\n",
       "    nfev: 105\n",
       "     nit: 11\n",
       "  status: 1\n",
       " success: True\n",
       "       x: array([-25.45500538, -49.28083203])"
      ]
     },
     "execution_count": 15,
     "metadata": {},
     "output_type": "execute_result"
    }
   ],
   "source": [
    "sol = minimize(objective,x0,method='TNC')\n",
    "sol\n",
    "#S5 = [-25.45500538, -49.28083203]"
   ]
  },
  {
   "cell_type": "code",
   "execution_count": 15,
   "metadata": {},
   "outputs": [],
   "source": [
    "#--------------------------------------------------------------------------------------------------------"
   ]
  },
  {
   "cell_type": "code",
   "execution_count": 16,
   "metadata": {},
   "outputs": [
    {
     "data": {
      "text/plain": [
       "[8297,\n",
       " 12236,\n",
       " 8580,\n",
       " 6582,\n",
       " 6213,\n",
       " 6825,\n",
       " 6877,\n",
       " 7587,\n",
       " 7714,\n",
       " 5056,\n",
       " 5476,\n",
       " 5583,\n",
       " 4911,\n",
       " 3473,\n",
       " 350,\n",
       " 4882,\n",
       " 3520,\n",
       " 499,\n",
       " 7643,\n",
       " 4220,\n",
       " 769,\n",
       " 2898,\n",
       " 3751,\n",
       " 4444]"
      ]
     },
     "execution_count": 16,
     "metadata": {},
     "output_type": "execute_result"
    }
   ],
   "source": [
    "# Parte 2, com pesos.\n",
    "Pesos = [\n",
    "8297,\n",
    "12236,\n",
    "8580,\n",
    "6582,\n",
    "6213,\n",
    "6825,\n",
    "6877,\n",
    "7587,\n",
    "7714,\n",
    "5056,\n",
    "5476,\n",
    "5583,\n",
    "4911,\n",
    "3473,\n",
    "350,\n",
    "4882,\n",
    "3520,\n",
    "499,\n",
    "7643,\n",
    "4220,\n",
    "769,\n",
    "2898,\n",
    "3751,\n",
    "4444]\n",
    "Pesos"
   ]
  },
  {
   "cell_type": "code",
   "execution_count": 17,
   "metadata": {},
   "outputs": [],
   "source": [
    "# Função objetivo\n",
    "def objective(x):\n",
    "    X = x[0]\n",
    "    Y = x[1]\n",
    "    soma = 0\n",
    "    for i in range(len(CoordinatesMatrix)):\n",
    "        soma = soma + (Pesos[i])*(math.sqrt((X-CoordinatesMatrix[i,0])**2 + (Y-CoordinatesMatrix[i,1])**2))\n",
    "    return soma"
   ]
  },
  {
   "cell_type": "code",
   "execution_count": 18,
   "metadata": {},
   "outputs": [
    {
     "data": {
      "text/plain": [
       "     fun: 7071.362150680134\n",
       "     jac: array([-2075.23394775,  1756.24731445])\n",
       " message: 'Optimization terminated successfully'\n",
       "    nfev: 85\n",
       "     nit: 15\n",
       "    njev: 15\n",
       "  status: 0\n",
       " success: True\n",
       "       x: array([-25.45241162, -49.27994214])"
      ]
     },
     "execution_count": 18,
     "metadata": {},
     "output_type": "execute_result"
    }
   ],
   "source": [
    "#---------------------------------------------------------------------------------------------------------\n",
    "# Soluções\n",
    "sol = minimize(objective,x0,method='SLSQP')\n",
    "sol\n",
    "#SP1 = [-25.45241162, -49.27994214]"
   ]
  },
  {
   "cell_type": "code",
   "execution_count": 19,
   "metadata": {},
   "outputs": [
    {
     "data": {
      "text/plain": [
       "   direc: array([[1., 0.],\n",
       "       [0., 1.]])\n",
       "     fun: array(7071.36203435)\n",
       " message: 'Optimization terminated successfully.'\n",
       "    nfev: 117\n",
       "     nit: 3\n",
       "  status: 0\n",
       " success: True\n",
       "       x: array([-25.45241139, -49.27994237])"
      ]
     },
     "execution_count": 19,
     "metadata": {},
     "output_type": "execute_result"
    }
   ],
   "source": [
    "sol = minimize(objective,x0,method='Powell')\n",
    "sol\n",
    "#SP2 = [-25.45241139, -49.27994237]"
   ]
  },
  {
   "cell_type": "code",
   "execution_count": 20,
   "metadata": {},
   "outputs": [
    {
     "data": {
      "text/plain": [
       "     fun: 7071.361583430318\n",
       "     jac: array([ 6391.78851318, -2228.20178223])\n",
       " message: 'Desired error not necessarily achieved due to precision loss.'\n",
       "    nfev: 165\n",
       "     nit: 13\n",
       "    njev: 52\n",
       "  status: 2\n",
       " success: False\n",
       "       x: array([-25.45241148, -49.2799425 ])"
      ]
     },
     "execution_count": 20,
     "metadata": {},
     "output_type": "execute_result"
    }
   ],
   "source": [
    "sol = minimize(objective,x0,method='CG')\n",
    "sol\n",
    "#SP3 = [-25.45241148, -49.2799425 ]"
   ]
  },
  {
   "cell_type": "code",
   "execution_count": 21,
   "metadata": {},
   "outputs": [
    {
     "data": {
      "text/plain": [
       "      fun: 7071.361304064789\n",
       " hess_inv: array([[ 1.61583001e-12, -6.07528975e-14],\n",
       "       [-6.07528975e-14,  1.56484617e-12]])\n",
       "      jac: array([-788.66357422,  625.6114502 ])\n",
       "  message: 'Desired error not necessarily achieved due to precision loss.'\n",
       "     nfev: 217\n",
       "      nit: 18\n",
       "     njev: 69\n",
       "   status: 2\n",
       "  success: False\n",
       "        x: array([-25.45241153, -49.27994252])"
      ]
     },
     "execution_count": 21,
     "metadata": {},
     "output_type": "execute_result"
    }
   ],
   "source": [
    "sol = minimize(objective,x0,method='BFGS')\n",
    "sol\n",
    "#SP4 = [-25.45241153, -49.27994252]"
   ]
  },
  {
   "cell_type": "code",
   "execution_count": 22,
   "metadata": {},
   "outputs": [
    {
     "data": {
      "text/plain": [
       "     fun: 7071.361616888838\n",
       "     jac: array([5111.36707701, -249.64736193])\n",
       " message: 'Converged (|x_n-x_(n-1)| ~= 0)'\n",
       "    nfev: 171\n",
       "     nit: 9\n",
       "  status: 2\n",
       " success: True\n",
       "       x: array([-25.45241147, -49.27994246])"
      ]
     },
     "execution_count": 22,
     "metadata": {},
     "output_type": "execute_result"
    }
   ],
   "source": [
    "sol = minimize(objective,x0,method='TNC')\n",
    "sol\n",
    "#S5 = [-25.45241147, -49.27994246]"
   ]
  },
  {
   "cell_type": "code",
   "execution_count": 23,
   "metadata": {},
   "outputs": [],
   "source": [
    "#----------------------------------------------------------------------------------------------------"
   ]
  },
  {
   "cell_type": "code",
   "execution_count": 24,
   "metadata": {},
   "outputs": [],
   "source": [
    "# Aqui temos: Modelo com e sem peso e suas soluções com diferentes solvers"
   ]
  },
  {
   "cell_type": "code",
   "execution_count": null,
   "metadata": {},
   "outputs": [],
   "source": []
  }
 ],
 "metadata": {
  "kernelspec": {
   "display_name": "Python 3.10.4 64-bit",
   "language": "python",
   "name": "python3"
  },
  "language_info": {
   "codemirror_mode": {
    "name": "ipython",
    "version": 3
   },
   "file_extension": ".py",
   "mimetype": "text/x-python",
   "name": "python",
   "nbconvert_exporter": "python",
   "pygments_lexer": "ipython3",
   "version": "3.10.4"
  },
  "vscode": {
   "interpreter": {
    "hash": "369f2c481f4da34e4445cda3fffd2e751bd1c4d706f27375911949ba6bb62e1c"
   }
  }
 },
 "nbformat": 4,
 "nbformat_minor": 4
}
